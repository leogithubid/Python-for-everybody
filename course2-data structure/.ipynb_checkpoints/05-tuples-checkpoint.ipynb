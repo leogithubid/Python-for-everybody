{
 "cells": [
  {
   "cell_type": "code",
   "execution_count": null,
   "id": "9fd38875",
   "metadata": {},
   "outputs": [],
   "source": [
    "a=(1,2,3)\n",
    "dir(a)"
   ]
  },
  {
   "cell_type": "code",
   "execution_count": null,
   "id": "61a3e69a",
   "metadata": {},
   "outputs": [],
   "source": [
    "(a,b)=(5,6)\n",
    "a"
   ]
  },
  {
   "cell_type": "code",
   "execution_count": null,
   "id": "5009ecf8",
   "metadata": {},
   "outputs": [],
   "source": [
    "b"
   ]
  },
  {
   "cell_type": "code",
   "execution_count": null,
   "id": "67ad5ea9",
   "metadata": {},
   "outputs": [],
   "source": [
    "#for k,v in dictionary.items() - works with tuples internally\n",
    "(0,1,2)<(0,1,1)"
   ]
  },
  {
   "cell_type": "code",
   "execution_count": null,
   "id": "5622e275",
   "metadata": {},
   "outputs": [],
   "source": [
    "friends=('Abe','Ben','Che')\n",
    "for friend in friends:\n",
    "    print(friend)"
   ]
  },
  {
   "cell_type": "code",
   "execution_count": null,
   "id": "a8fa7923",
   "metadata": {},
   "outputs": [],
   "source": [
    "#we can sort tuples\n",
    "dictionary = {'Ben':100,'Che':200,'Abe':500}\n",
    "items = dictionary.items()\n",
    "items"
   ]
  },
  {
   "cell_type": "code",
   "execution_count": null,
   "id": "dc4e0811",
   "metadata": {},
   "outputs": [],
   "source": [
    "sorteditems = sorted(items)\n",
    "sorteditems"
   ]
  },
  {
   "cell_type": "code",
   "execution_count": null,
   "id": "d8364bd3",
   "metadata": {},
   "outputs": [],
   "source": [
    "sortedbyvalue = list()\n",
    "for key,value in dictionary.items():\n",
    "    sortedbyvalue.append((value,key))\n",
    "sortedbyvalue #its an array of tuples"
   ]
  },
  {
   "cell_type": "code",
   "execution_count": null,
   "id": "e45c6516",
   "metadata": {},
   "outputs": [],
   "source": [
    "sortedbyvalue = sorted(sortedbyvalue,reverse=True)\n",
    "sortedbyvalue"
   ]
  },
  {
   "cell_type": "markdown",
   "id": "d9a23311",
   "metadata": {},
   "source": [
    "# List Comprehension"
   ]
  },
  {
   "cell_type": "code",
   "execution_count": null,
   "id": "5d34298d",
   "metadata": {},
   "outputs": [],
   "source": [
    "print(sorted([(value,key) for key,value in dictionary.items()]))"
   ]
  },
  {
   "cell_type": "code",
   "execution_count": null,
   "id": "b76034ea",
   "metadata": {},
   "outputs": [],
   "source": [
    "print(sorted([(value,key) for key,value in dictionary.items()],reverse = True) )"
   ]
  },
  {
   "cell_type": "markdown",
   "id": "4d7e6309",
   "metadata": {},
   "source": [
    "# Assignment"
   ]
  },
  {
   "cell_type": "code",
   "execution_count": null,
   "id": "60fcc4ef",
   "metadata": {},
   "outputs": [],
   "source": [
    "x , y = 3, 4"
   ]
  },
  {
   "cell_type": "code",
   "execution_count": null,
   "id": "2986ab7f",
   "metadata": {},
   "outputs": [],
   "source": [
    "y"
   ]
  },
  {
   "cell_type": "code",
   "execution_count": null,
   "id": "11095ed3",
   "metadata": {},
   "outputs": [],
   "source": [
    "x = { 'chuck' : 1 , 'fred' : 42, 'jan': 100}\n",
    "y = x.items()\n",
    "y"
   ]
  },
  {
   "cell_type": "code",
   "execution_count": null,
   "id": "a2758a1e",
   "metadata": {},
   "outputs": [],
   "source": [
    "x = (5, 1, 3)\n",
    "if (6, 0, 0)  > x :#it compared only the first one\n",
    "   print('True')\n",
    "else:\n",
    "    print('False')"
   ]
  },
  {
   "cell_type": "code",
   "execution_count": null,
   "id": "539911cd",
   "metadata": {},
   "outputs": [],
   "source": [
    "c = { 'chuck' : 1 , 'fred' : 42, 'jan': 100}\n",
    "tmp = list()\n",
    "for k, v in c.items() :\n",
    "    tmp.append( (v, k) )\n",
    "tmp"
   ]
  },
  {
   "cell_type": "code",
   "execution_count": null,
   "id": "6b1269ec",
   "metadata": {},
   "outputs": [],
   "source": [
    "days = ('Mon', 'Tue', 'Wed', 'Thu', 'Fri', 'Sat', 'Sun')\n",
    "\n",
    "print(days[2])"
   ]
  },
  {
   "cell_type": "markdown",
   "id": "35ce15ec",
   "metadata": {},
   "source": [
    "10.2 Write a program to read through the mbox-short.txt and figure out the distribution by hour of the day for each of the messages. You can pull the hour out from the 'From ' line by finding the time and then splitting the string a second time using a colon.\n",
    "From stephen.marquard@uct.ac.za Sat Jan  5 09:14:16 2008\n",
    "Once you have accumulated the counts for each hour, print out the counts, sorted by hour as shown below."
   ]
  },
  {
   "cell_type": "code",
   "execution_count": null,
   "id": "8823dfbc",
   "metadata": {},
   "outputs": [],
   "source": []
  },
  {
   "cell_type": "code",
   "execution_count": 9,
   "id": "c5295568",
   "metadata": {},
   "outputs": [
    {
     "name": "stdout",
     "output_type": "stream",
     "text": [
      "Enter file:mbox-short.txt\n",
      "04 3\n",
      "06 1\n",
      "07 1\n",
      "09 2\n",
      "10 3\n",
      "11 6\n",
      "14 1\n",
      "15 2\n",
      "16 4\n",
      "17 2\n",
      "18 1\n",
      "19 1\n"
     ]
    }
   ],
   "source": [
    "file = input('Enter file:')\n",
    "filehandle = open(file)\n",
    "dictionary = {}\n",
    "sortedlist = list()\n",
    "for line in filehandle:\n",
    "    line.rstrip()\n",
    "    if line.startswith('From:'):\n",
    "        continue\n",
    "    if line.startswith('From'):\n",
    "        pieces = line.split()\n",
    "        hour = pieces[5].split(':')[0]\n",
    "        #create a dictionary\n",
    "        dictionary[hour] = dictionary.get(hour,0) + 1\n",
    "#print(sorted([(key,value) for key,value in dictionary.items()]))\n",
    "for key,value in dictionary.items():\n",
    "    sortedlist.append((key,value))\n",
    "sortedlist = sorted(sortedlist)\n",
    "for item in sortedlist:\n",
    "    print(item[0],item[1])"
   ]
  },
  {
   "cell_type": "code",
   "execution_count": null,
   "id": "a362a60c",
   "metadata": {},
   "outputs": [],
   "source": []
  }
 ],
 "metadata": {
  "kernelspec": {
   "display_name": "Python 3 (ipykernel)",
   "language": "python",
   "name": "python3"
  },
  "language_info": {
   "codemirror_mode": {
    "name": "ipython",
    "version": 3
   },
   "file_extension": ".py",
   "mimetype": "text/x-python",
   "name": "python",
   "nbconvert_exporter": "python",
   "pygments_lexer": "ipython3",
   "version": "3.9.7"
  }
 },
 "nbformat": 4,
 "nbformat_minor": 5
}
