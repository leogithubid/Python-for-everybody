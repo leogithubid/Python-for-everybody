{
 "cells": [
  {
   "cell_type": "code",
   "execution_count": 2,
   "id": "561814f6",
   "metadata": {},
   "outputs": [
    {
     "data": {
      "text/plain": [
       "{'money': 12, 'cards': 5}"
      ]
     },
     "execution_count": 2,
     "metadata": {},
     "output_type": "execute_result"
    }
   ],
   "source": [
    "#Key-Value pair\n",
    "#assosciative array\n",
    "box = dict()\n",
    "box['money']=12\n",
    "box['cards']=5\n",
    "box"
   ]
  },
  {
   "cell_type": "code",
   "execution_count": 3,
   "id": "35435d22",
   "metadata": {},
   "outputs": [
    {
     "data": {
      "text/plain": [
       "5"
      ]
     },
     "execution_count": 3,
     "metadata": {},
     "output_type": "execute_result"
    }
   ],
   "source": [
    "box['cards']"
   ]
  },
  {
   "cell_type": "code",
   "execution_count": 4,
   "id": "476abe30",
   "metadata": {},
   "outputs": [
    {
     "data": {
      "text/plain": [
       "{'money': 17, 'cards': 5}"
      ]
     },
     "execution_count": 4,
     "metadata": {},
     "output_type": "execute_result"
    }
   ],
   "source": [
    "box['money']=box['money']+5\n",
    "box"
   ]
  },
  {
   "cell_type": "code",
   "execution_count": 5,
   "id": "74784241",
   "metadata": {},
   "outputs": [
    {
     "data": {
      "text/plain": [
       "False"
      ]
     },
     "execution_count": 5,
     "metadata": {},
     "output_type": "execute_result"
    }
   ],
   "source": [
    "#Remember strings are immutable, List and Dictionaries are mutable\n",
    "#Traceback - instead of \n",
    "#box['new']\n",
    "#write like this\n",
    "'new' in box"
   ]
  },
  {
   "cell_type": "code",
   "execution_count": 6,
   "id": "887e3cac",
   "metadata": {},
   "outputs": [
    {
     "data": {
      "text/plain": [
       "17"
      ]
     },
     "execution_count": 6,
     "metadata": {},
     "output_type": "execute_result"
    }
   ],
   "source": [
    "#get method with default if not found\n",
    "check = box.get('money')\n",
    "check"
   ]
  },
  {
   "cell_type": "code",
   "execution_count": 7,
   "id": "86952063",
   "metadata": {},
   "outputs": [
    {
     "data": {
      "text/plain": [
       "0"
      ]
     },
     "execution_count": 7,
     "metadata": {},
     "output_type": "execute_result"
    }
   ],
   "source": [
    "check = box.get('new',0)\n",
    "check"
   ]
  },
  {
   "cell_type": "code",
   "execution_count": 8,
   "id": "24cb8221",
   "metadata": {},
   "outputs": [
    {
     "data": {
      "text/plain": [
       "dict_keys(['money', 'cards'])"
      ]
     },
     "execution_count": 8,
     "metadata": {},
     "output_type": "execute_result"
    }
   ],
   "source": [
    "box.keys()"
   ]
  },
  {
   "cell_type": "code",
   "execution_count": 9,
   "id": "03d88bbc",
   "metadata": {},
   "outputs": [
    {
     "data": {
      "text/plain": [
       "dict_values([17, 5])"
      ]
     },
     "execution_count": 9,
     "metadata": {},
     "output_type": "execute_result"
    }
   ],
   "source": [
    "box.values()"
   ]
  },
  {
   "cell_type": "code",
   "execution_count": 10,
   "id": "120ab595",
   "metadata": {},
   "outputs": [
    {
     "data": {
      "text/plain": [
       "['money', 'cards']"
      ]
     },
     "execution_count": 10,
     "metadata": {},
     "output_type": "execute_result"
    }
   ],
   "source": [
    "listbox = list(box)#this is an interesting thing\n",
    "listbox"
   ]
  },
  {
   "cell_type": "code",
   "execution_count": 11,
   "id": "1a2f245f",
   "metadata": {},
   "outputs": [
    {
     "data": {
      "text/plain": [
       "dict_items([('money', 17), ('cards', 5)])"
      ]
     },
     "execution_count": 11,
     "metadata": {},
     "output_type": "execute_result"
    }
   ],
   "source": [
    "box.items()"
   ]
  },
  {
   "cell_type": "code",
   "execution_count": 12,
   "id": "20177e41",
   "metadata": {},
   "outputs": [
    {
     "name": "stdout",
     "output_type": "stream",
     "text": [
      "money 17\n",
      "cards 5\n"
     ]
    }
   ],
   "source": [
    "for aaa,bbb in box.items():#two iteration variables \n",
    "    print(aaa,bbb)"
   ]
  },
  {
   "cell_type": "code",
   "execution_count": 20,
   "id": "7eb5216f",
   "metadata": {},
   "outputs": [
    {
     "name": "stdout",
     "output_type": "stream",
     "text": [
      "Enter file nameromeo.txt\n",
      "romeo.txt\n",
      "<_io.TextIOWrapper name='romeo.txt' mode='r' encoding='UTF-8'>\n",
      "{'But': 1, 'soft': 1, 'what': 1, 'light': 1, 'through': 1, 'yonder': 1, 'window': 1, 'breaks': 1, 'It': 1, 'is': 3, 'the': 3, 'east': 1, 'and': 3, 'Juliet': 1, 'sun': 2, 'Arise': 1, 'fair': 1, 'kill': 1, 'envious': 1, 'moon': 1, 'Who': 1, 'already': 1, 'sick': 1, 'pale': 1, 'with': 1, 'grief': 1}\n",
      "is 3\n"
     ]
    }
   ],
   "source": [
    "#find the word that appears the maximum number of times\n",
    "filename = input(\"Enter file name\")\n",
    "print(filename)\n",
    "filehandle = open(filename)\n",
    "print(filehandle)\n",
    "wordlist = dict()\n",
    "for line in filehandle:\n",
    "    words = line.split()\n",
    "    for word in words:\n",
    "        if word in wordlist:\n",
    "            #print(word)\n",
    "            wordlist[word] = wordlist[word] + 1\n",
    "        else:\n",
    "            #print(word)\n",
    "            wordlist[word] = 1\n",
    "print(wordlist)\n",
    "#initialise the maximum occuring word and its count\n",
    "maxword = None\n",
    "maximum = None\n",
    "#now go through the wordlist to find out what number occurs the most\n",
    "for word,count in wordlist.items():\n",
    "    if maximum is None or maximum < count:\n",
    "        maximum = count\n",
    "        maxword = word\n",
    "print(maxword,maximum) "
   ]
  },
  {
   "cell_type": "markdown",
   "id": "625d83eb",
   "metadata": {},
   "source": [
    "###### Write a program to read through the mbox-short.txt and figure out who has sent the greatest number of mail messages. The program looks for 'From ' lines and takes the second word of those lines as the person who sent the mail. The program creates a Python dictionary that maps the sender's mail address to a count of the number of times they appear in the file. After the dictionary is produced, the program reads through the dictionary using a maximum loop to find the most prolific committer."
   ]
  },
  {
   "cell_type": "code",
   "execution_count": 23,
   "id": "cf50f95d",
   "metadata": {},
   "outputs": [
    {
     "name": "stdout",
     "output_type": "stream",
     "text": [
      "Enter file name:mbox-short.txt\n",
      "cwen@iupui.edu 5\n"
     ]
    }
   ],
   "source": [
    "#get filename\n",
    "filename = input('Enter file name:')\n",
    "#open it\n",
    "filehandle = open(filename)\n",
    "#create an empty dictionary\n",
    "sentitems = dict()\n",
    "#go through each line in the file\n",
    "for line in filehandle:\n",
    "    #ignore the lines starting with 'From:' as they are duplicates\n",
    "    if line.startswith('From:'):\n",
    "        continue\n",
    "    #if the line starts with 'From'\n",
    "    if line.startswith('From'):\n",
    "        #split the words\n",
    "        content = line.split()\n",
    "        #get the second word, that is the sender\n",
    "        sender = content[1]\n",
    "        #if sender is already in our dictionary\n",
    "        if sender in sentitems:\n",
    "            #just increase its count by 1\n",
    "            sentitems[sender] = sentitems[sender]+1\n",
    "        else:\n",
    "            #otherwise add it to the dictionary\n",
    "            sentitems[sender] = 1\n",
    "#print(sentitems)\n",
    "#now we have to find the sender with maximum items\n",
    "maximumsender = None\n",
    "maximumcount = None\n",
    "for sender,count in sentitems.items():\n",
    "    if maximumcount is None or maximumcount < count:\n",
    "        maximumsender = sender\n",
    "        maximumcount = count\n",
    "print(maximumsender,maximumcount)"
   ]
  },
  {
   "cell_type": "markdown",
   "id": "edae38df",
   "metadata": {},
   "source": [
    "# Assignment"
   ]
  },
  {
   "cell_type": "code",
   "execution_count": 24,
   "id": "2d187763",
   "metadata": {},
   "outputs": [
    {
     "ename": "KeyError",
     "evalue": "'candy'",
     "output_type": "error",
     "traceback": [
      "\u001b[0;31m---------------------------------------------------------------------------\u001b[0m",
      "\u001b[0;31mKeyError\u001b[0m                                  Traceback (most recent call last)",
      "\u001b[0;32m/var/folders/mq/hny0jxys0_q9sz_f6f_cbrv80000gp/T/ipykernel_17207/3350742330.py\u001b[0m in \u001b[0;36m<module>\u001b[0;34m\u001b[0m\n\u001b[1;32m      1\u001b[0m \u001b[0mstuff\u001b[0m \u001b[0;34m=\u001b[0m \u001b[0mdict\u001b[0m\u001b[0;34m(\u001b[0m\u001b[0;34m)\u001b[0m\u001b[0;34m\u001b[0m\u001b[0;34m\u001b[0m\u001b[0m\n\u001b[0;32m----> 2\u001b[0;31m \u001b[0mprint\u001b[0m\u001b[0;34m(\u001b[0m\u001b[0mstuff\u001b[0m\u001b[0;34m[\u001b[0m\u001b[0;34m'candy'\u001b[0m\u001b[0;34m]\u001b[0m\u001b[0;34m)\u001b[0m\u001b[0;34m\u001b[0m\u001b[0;34m\u001b[0m\u001b[0m\n\u001b[0m",
      "\u001b[0;31mKeyError\u001b[0m: 'candy'"
     ]
    }
   ],
   "source": [
    "stuff = dict()\n",
    "print(stuff['candy'])"
   ]
  },
  {
   "cell_type": "code",
   "execution_count": null,
   "id": "79020622",
   "metadata": {},
   "outputs": [],
   "source": []
  },
  {
   "cell_type": "code",
   "execution_count": 25,
   "id": "519e0acc",
   "metadata": {},
   "outputs": [
    {
     "name": "stdout",
     "output_type": "stream",
     "text": [
      "-1\n"
     ]
    }
   ],
   "source": [
    "stuff = dict()\n",
    "print(stuff.get('candy',-1))"
   ]
  },
  {
   "cell_type": "code",
   "execution_count": null,
   "id": "1a0ec6af",
   "metadata": {},
   "outputs": [],
   "source": []
  },
  {
   "cell_type": "code",
   "execution_count": null,
   "id": "65b8d877",
   "metadata": {},
   "outputs": [],
   "source": []
  }
 ],
 "metadata": {
  "kernelspec": {
   "display_name": "Python 3 (ipykernel)",
   "language": "python",
   "name": "python3"
  },
  "language_info": {
   "codemirror_mode": {
    "name": "ipython",
    "version": 3
   },
   "file_extension": ".py",
   "mimetype": "text/x-python",
   "name": "python",
   "nbconvert_exporter": "python",
   "pygments_lexer": "ipython3",
   "version": "3.9.7"
  }
 },
 "nbformat": 4,
 "nbformat_minor": 5
}
