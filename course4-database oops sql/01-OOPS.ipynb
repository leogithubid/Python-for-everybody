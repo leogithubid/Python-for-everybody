{
 "cells": [
  {
   "cell_type": "code",
   "execution_count": 3,
   "id": "92d01aa6",
   "metadata": {},
   "outputs": [
    {
     "data": {
      "text/plain": [
       "71"
      ]
     },
     "execution_count": 3,
     "metadata": {},
     "output_type": "execute_result"
    }
   ],
   "source": [
    "ord('G')"
   ]
  },
  {
   "cell_type": "code",
   "execution_count": 2,
   "id": "b438e35c",
   "metadata": {},
   "outputs": [
    {
     "data": {
      "text/plain": [
       "104"
      ]
     },
     "execution_count": 2,
     "metadata": {},
     "output_type": "execute_result"
    }
   ],
   "source": [
    "ord('h')"
   ]
  },
  {
   "cell_type": "code",
   "execution_count": 33,
   "id": "43ea5c73",
   "metadata": {},
   "outputs": [],
   "source": [
    "class movie:\n",
    "    actor = ''\n",
    "    def getActor(self):\n",
    "        return self.actor"
   ]
  },
  {
   "cell_type": "code",
   "execution_count": 36,
   "id": "f3d0f903",
   "metadata": {},
   "outputs": [],
   "source": [
    "matrix = movie()\n",
    "gravity = movie()"
   ]
  },
  {
   "cell_type": "code",
   "execution_count": 37,
   "id": "1dde69a7",
   "metadata": {},
   "outputs": [],
   "source": [
    "matrix.actor = 'keanu reeves'\n",
    "gravity.actor = 'george clooney'"
   ]
  },
  {
   "cell_type": "code",
   "execution_count": 38,
   "id": "0b8e2a1f",
   "metadata": {},
   "outputs": [
    {
     "data": {
      "text/plain": [
       "'keanu reeves'"
      ]
     },
     "execution_count": 38,
     "metadata": {},
     "output_type": "execute_result"
    }
   ],
   "source": [
    "matrix.getActor()"
   ]
  },
  {
   "cell_type": "code",
   "execution_count": 39,
   "id": "5d78891f",
   "metadata": {},
   "outputs": [
    {
     "data": {
      "text/plain": [
       "'george clooney'"
      ]
     },
     "execution_count": 39,
     "metadata": {},
     "output_type": "execute_result"
    }
   ],
   "source": [
    "gravity.getActor()"
   ]
  },
  {
   "cell_type": "code",
   "execution_count": 47,
   "id": "de25b1b8",
   "metadata": {},
   "outputs": [],
   "source": [
    "class documentary(movie):\n",
    "    duration = 100\n",
    "    def getDuration(self):\n",
    "        return self.duration"
   ]
  },
  {
   "cell_type": "code",
   "execution_count": 48,
   "id": "50c2bb06",
   "metadata": {},
   "outputs": [],
   "source": [
    "war = documentary()"
   ]
  },
  {
   "cell_type": "code",
   "execution_count": 49,
   "id": "5719ef48",
   "metadata": {},
   "outputs": [
    {
     "data": {
      "text/plain": [
       "100"
      ]
     },
     "execution_count": 49,
     "metadata": {},
     "output_type": "execute_result"
    }
   ],
   "source": [
    "war.getDuration()"
   ]
  },
  {
   "cell_type": "code",
   "execution_count": null,
   "id": "1b42315c",
   "metadata": {},
   "outputs": [],
   "source": []
  }
 ],
 "metadata": {
  "kernelspec": {
   "display_name": "Python 3 (ipykernel)",
   "language": "python",
   "name": "python3"
  },
  "language_info": {
   "codemirror_mode": {
    "name": "ipython",
    "version": 3
   },
   "file_extension": ".py",
   "mimetype": "text/x-python",
   "name": "python",
   "nbconvert_exporter": "python",
   "pygments_lexer": "ipython3",
   "version": "3.9.7"
  }
 },
 "nbformat": 4,
 "nbformat_minor": 5
}
