{
 "cells": [
  {
   "cell_type": "code",
   "execution_count": 3,
   "id": "b6889831",
   "metadata": {},
   "outputs": [
    {
     "data": {
      "text/plain": [
       "71"
      ]
     },
     "execution_count": 3,
     "metadata": {},
     "output_type": "execute_result"
    }
   ],
   "source": [
    "ord('G')"
   ]
  },
  {
   "cell_type": "code",
   "execution_count": 2,
   "id": "bf1a3abf",
   "metadata": {},
   "outputs": [
    {
     "data": {
      "text/plain": [
       "104"
      ]
     },
     "execution_count": 2,
     "metadata": {},
     "output_type": "execute_result"
    }
   ],
   "source": [
    "ord('h')"
   ]
  },
  {
   "cell_type": "code",
   "execution_count": 5,
   "id": "0d1a7830",
   "metadata": {},
   "outputs": [],
   "source": [
    "class movie:\n",
    "    actor = 'kamal hasan'\n",
    "    def getActor(self):\n",
    "        return self.actor"
   ]
  },
  {
   "cell_type": "code",
   "execution_count": 6,
   "id": "84aa9c73",
   "metadata": {},
   "outputs": [],
   "source": [
    "test = movie()"
   ]
  },
  {
   "cell_type": "code",
   "execution_count": 7,
   "id": "412a3a3c",
   "metadata": {},
   "outputs": [
    {
     "data": {
      "text/plain": [
       "'kamal hassan'"
      ]
     },
     "execution_count": 7,
     "metadata": {},
     "output_type": "execute_result"
    }
   ],
   "source": [
    "test.actor"
   ]
  },
  {
   "cell_type": "code",
   "execution_count": 8,
   "id": "8390a62b",
   "metadata": {},
   "outputs": [
    {
     "data": {
      "text/plain": [
       "'kamal hassan'"
      ]
     },
     "execution_count": 8,
     "metadata": {},
     "output_type": "execute_result"
    }
   ],
   "source": [
    "test.getActor()"
   ]
  },
  {
   "cell_type": "code",
   "execution_count": null,
   "id": "592cea8a",
   "metadata": {},
   "outputs": [],
   "source": []
  }
 ],
 "metadata": {
  "kernelspec": {
   "display_name": "Python 3 (ipykernel)",
   "language": "python",
   "name": "python3"
  },
  "language_info": {
   "codemirror_mode": {
    "name": "ipython",
    "version": 3
   },
   "file_extension": ".py",
   "mimetype": "text/x-python",
   "name": "python",
   "nbconvert_exporter": "python",
   "pygments_lexer": "ipython3",
   "version": "3.9.7"
  }
 },
 "nbformat": 4,
 "nbformat_minor": 5
}
